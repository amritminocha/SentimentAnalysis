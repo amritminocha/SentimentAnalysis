{
 "cells": [
  {
   "cell_type": "code",
   "execution_count": 2,
   "id": "d3832b9c",
   "metadata": {},
   "outputs": [
    {
     "name": "stdout",
     "output_type": "stream",
     "text": [
      "   target          id                          date      flag  \\\n",
      "0       0  1467810369  Mon Apr 06 22:19:45 PDT 2009  NO_QUERY   \n",
      "1       0  1467810672  Mon Apr 06 22:19:49 PDT 2009  NO_QUERY   \n",
      "2       0  1467810917  Mon Apr 06 22:19:53 PDT 2009  NO_QUERY   \n",
      "3       0  1467811184  Mon Apr 06 22:19:57 PDT 2009  NO_QUERY   \n",
      "4       0  1467811193  Mon Apr 06 22:19:57 PDT 2009  NO_QUERY   \n",
      "\n",
      "              user                                               text  \n",
      "0  _TheSpecialOne_  @switchfoot http://twitpic.com/2y1zl - Awww, t...  \n",
      "1    scotthamilton  is upset that he can't update his Facebook by ...  \n",
      "2         mattycus  @Kenichan I dived many times for the ball. Man...  \n",
      "3          ElleCTF    my whole body feels itchy and like its on fire   \n",
      "4           Karoli  @nationwideclass no, it's not behaving at all....  \n"
     ]
    }
   ],
   "source": [
    "import pandas as pd\n",
    "\n",
    "# Load the CSV file (you may need to specify encoding=\"ISO-8859-1\")\n",
    "df = pd.read_csv('/Users/amritminocha/Desktop/training.1600000.processed.noemoticon.csv', encoding='ISO-8859-1', header=None)\n",
    "\n",
    "# Assign column names\n",
    "df.columns = ['target', 'id', 'date', 'flag', 'user', 'text']\n",
    "\n",
    "# Quick look\n",
    "print(df.head())"
   ]
  },
  {
   "cell_type": "code",
   "execution_count": 3,
   "id": "c7c6f25e",
   "metadata": {
    "scrolled": true
   },
   "outputs": [
    {
     "name": "stdout",
     "output_type": "stream",
     "text": [
      "target\n",
      "0    800000\n",
      "4    800000\n",
      "Name: count, dtype: int64\n"
     ]
    }
   ],
   "source": [
    "print(df['target'].value_counts())"
   ]
  },
  {
   "cell_type": "markdown",
   "id": "558f2aa8",
   "metadata": {},
   "source": [
    "### Clean the tweet text for modeling.\n",
    "#### - remove URLs\n",
    "#### - remove mentions\n",
    "#### - remove hashtags\n",
    "#### - remove special characters and numbers\n",
    "\n",
    "### Convert target to binary"
   ]
  },
  {
   "cell_type": "code",
   "execution_count": 8,
   "id": "518628ca",
   "metadata": {},
   "outputs": [
    {
     "name": "stderr",
     "output_type": "stream",
     "text": [
      "[nltk_data] Downloading package stopwords to\n",
      "[nltk_data]     /Users/amritminocha/nltk_data...\n",
      "[nltk_data]   Package stopwords is already up-to-date!\n"
     ]
    },
    {
     "name": "stdout",
     "output_type": "stream",
     "text": [
      "   target          id                          date      flag  \\\n",
      "0       0  1467810369  Mon Apr 06 22:19:45 PDT 2009  NO_QUERY   \n",
      "1       0  1467810672  Mon Apr 06 22:19:49 PDT 2009  NO_QUERY   \n",
      "2       0  1467810917  Mon Apr 06 22:19:53 PDT 2009  NO_QUERY   \n",
      "3       0  1467811184  Mon Apr 06 22:19:57 PDT 2009  NO_QUERY   \n",
      "4       0  1467811193  Mon Apr 06 22:19:57 PDT 2009  NO_QUERY   \n",
      "\n",
      "              user                                               text  \\\n",
      "0  _TheSpecialOne_  @switchfoot http://twitpic.com/2y1zl - Awww, t...   \n",
      "1    scotthamilton  is upset that he can't update his Facebook by ...   \n",
      "2         mattycus  @Kenichan I dived many times for the ball. Man...   \n",
      "3          ElleCTF    my whole body feels itchy and like its on fire    \n",
      "4           Karoli  @nationwideclass no, it's not behaving at all....   \n",
      "\n",
      "                                          clean_text  label  \n",
      "0  awww thats bummer shoulda got david carr third...      0  \n",
      "1  upset cant update facebook texting might cry r...      0  \n",
      "2  dived many times ball managed save rest go bounds      0  \n",
      "3                   whole body feels itchy like fire      0  \n",
      "4                           behaving im mad cant see      0  \n"
     ]
    }
   ],
   "source": [
    "import re\n",
    "import nltk\n",
    "from nltk.corpus import stopwords\n",
    "nltk.download('stopwords')\n",
    "stop_words = set(stopwords.words('english'))\n",
    "\n",
    "def clean_text(text):\n",
    "    text = re.sub(r\"http\\S+\", \"\", text)\n",
    "    text = re.sub(r\"@\\w+\", \"\", text)  \n",
    "    text = re.sub(r\"#\\w+\", \"\", text)\n",
    "    text = re.sub(r\"[^a-zA-Z\\s]\", \"\", text)\n",
    "    text = text.lower()\n",
    "    text = text.split()\n",
    "    text = [word for word in text if word not in stop_words]\n",
    "    return \" \".join(text)\n",
    "\n",
    "df['clean_text'] = df['text'].apply(clean_text)\n",
    "\n",
    "df['label'] = df['target'].apply(lambda x: 0 if x == 0 else 1)\n",
    "\n",
    "print(df.head())"
   ]
  },
  {
   "cell_type": "code",
   "execution_count": 15,
   "id": "f7dc8db3",
   "metadata": {},
   "outputs": [
    {
     "name": "stdout",
     "output_type": "stream",
     "text": [
      "(1600000, 5000)\n"
     ]
    }
   ],
   "source": [
    "from sklearn.feature_extraction.text import TfidfVectorizer\n",
    "\n",
    "\n",
    "vectorizer = TfidfVectorizer(max_features=5000)\n",
    "X = vectorizer.fit_transform(df['clean_text'])\n",
    "\n",
    "# Labels\n",
    "y = df['label']\n",
    "\n",
    "print(X.shape)"
   ]
  },
  {
   "cell_type": "code",
   "execution_count": 20,
   "id": "c14c787d",
   "metadata": {},
   "outputs": [
    {
     "name": "stdout",
     "output_type": "stream",
     "text": [
      "  (0, 1072)\t0.2022059522593894\n",
      "  (0, 4355)\t0.43525088314850735\n",
      "  (0, 1070)\t0.38502835636990573\n",
      "  (0, 1798)\t0.21798867276958758\n",
      "  (0, 3824)\t0.478554381481773\n",
      "  (0, 599)\t0.4067014663331926\n",
      "  (0, 4332)\t0.25192085396416264\n",
      "  (0, 276)\t0.34061566245484975\n",
      "  (1, 441)\t0.3459118204500027\n",
      "  (1, 114)\t0.25579893757830585\n",
      "  (1, 4413)\t0.17851966325254992\n",
      "  (1, 3697)\t0.22942534573460108\n",
      "  (1, 3555)\t0.3745153726427564\n",
      "  (1, 994)\t0.2925753923967987\n",
      "  (1, 2728)\t0.2586727297713326\n",
      "  (1, 4318)\t0.36723428155196647\n",
      "  (1, 1460)\t0.29403925773138545\n",
      "  (1, 4616)\t0.2935998272393082\n",
      "  (1, 656)\t0.1797308481873239\n",
      "  (1, 4627)\t0.3127440037554583\n",
      "  (2, 1768)\t0.22506485250168215\n",
      "  (2, 3551)\t0.36703910640206716\n",
      "  (2, 3680)\t0.41458284571599624\n",
      "  (2, 2621)\t0.4579295443870856\n",
      "  (2, 309)\t0.444421378783451\n",
      "  :\t:\n",
      "  (1599994, 4948)\t0.2963413177925768\n",
      "  (1599994, 4856)\t0.4088594085064174\n",
      "  (1599994, 4708)\t0.34076110574742496\n",
      "  (1599994, 1783)\t0.21795704505051744\n",
      "  (1599994, 4874)\t0.2374719009665092\n",
      "  (1599994, 4396)\t0.2433677508931563\n",
      "  (1599995, 391)\t0.43351217821679494\n",
      "  (1599995, 1408)\t0.45308840193300964\n",
      "  (1599995, 4851)\t0.48763883597370306\n",
      "  (1599995, 1522)\t0.4392537971767418\n",
      "  (1599995, 3697)\t0.41957425884764094\n",
      "  (1599996, 2191)\t0.6837813748225978\n",
      "  (1599996, 3008)\t0.42309891680051376\n",
      "  (1599996, 917)\t0.40823831614838946\n",
      "  (1599996, 1955)\t0.4321710486326881\n",
      "  (1599997, 1140)\t0.6895132550120852\n",
      "  (1599997, 215)\t0.5616449870059876\n",
      "  (1599997, 3461)\t0.45730337822246975\n",
      "  (1599998, 105)\t0.608919692347761\n",
      "  (1599998, 4321)\t0.37977357274491097\n",
      "  (1599998, 427)\t0.37369438563295204\n",
      "  (1599998, 490)\t0.4179996080678301\n",
      "  (1599998, 1917)\t0.31428879885970357\n",
      "  (1599998, 4396)\t0.26803027147796094\n",
      "  (1599999, 1917)\t1.0\n"
     ]
    }
   ],
   "source": [
    "# The output value -> (0, 1072) means 0th row 1072 column which means 1072th column words out of 5000 features has tf-idf value 0.2 something\n",
    "print(X)"
   ]
  },
  {
   "cell_type": "code",
   "execution_count": 18,
   "id": "07d510d4",
   "metadata": {},
   "outputs": [
    {
     "name": "stdout",
     "output_type": "stream",
     "text": [
      "[[0. 0. 0. ... 0. 0. 0.]\n",
      " [0. 0. 0. ... 0. 0. 0.]\n",
      " [0. 0. 0. ... 0. 0. 0.]\n",
      " [0. 0. 0. ... 0. 0. 0.]\n",
      " [0. 0. 0. ... 0. 0. 0.]]\n"
     ]
    }
   ],
   "source": [
    "dense_sample = X[:5].todense()\n",
    "print(dense_sample)"
   ]
  },
  {
   "cell_type": "code",
   "execution_count": 19,
   "id": "789af003",
   "metadata": {},
   "outputs": [
    {
     "name": "stdout",
     "output_type": "stream",
     "text": [
      "  (0, 1072)\t0.2022059522593894\n",
      "  (0, 4355)\t0.43525088314850735\n",
      "  (0, 1070)\t0.38502835636990573\n",
      "  (0, 1798)\t0.21798867276958758\n",
      "  (0, 3824)\t0.478554381481773\n",
      "  (0, 599)\t0.4067014663331926\n",
      "  (0, 4332)\t0.25192085396416264\n",
      "  (0, 276)\t0.34061566245484975\n",
      "  (1, 441)\t0.3459118204500027\n",
      "  (1, 114)\t0.25579893757830585\n",
      "  (1, 4413)\t0.17851966325254992\n",
      "  (1, 3697)\t0.22942534573460108\n",
      "  (1, 3555)\t0.3745153726427564\n",
      "  (1, 994)\t0.2925753923967987\n",
      "  (1, 2728)\t0.2586727297713326\n",
      "  (1, 4318)\t0.36723428155196647\n",
      "  (1, 1460)\t0.29403925773138545\n",
      "  (1, 4616)\t0.2935998272393082\n",
      "  (1, 656)\t0.1797308481873239\n",
      "  (1, 4627)\t0.3127440037554583\n",
      "  (2, 1768)\t0.22506485250168215\n",
      "  (2, 3551)\t0.36703910640206716\n",
      "  (2, 3680)\t0.41458284571599624\n",
      "  (2, 2621)\t0.4579295443870856\n",
      "  (2, 309)\t0.444421378783451\n",
      "  :\t:\n",
      "  (1599994, 4948)\t0.2963413177925768\n",
      "  (1599994, 4856)\t0.4088594085064174\n",
      "  (1599994, 4708)\t0.34076110574742496\n",
      "  (1599994, 1783)\t0.21795704505051744\n",
      "  (1599994, 4874)\t0.2374719009665092\n",
      "  (1599994, 4396)\t0.2433677508931563\n",
      "  (1599995, 391)\t0.43351217821679494\n",
      "  (1599995, 1408)\t0.45308840193300964\n",
      "  (1599995, 4851)\t0.48763883597370306\n",
      "  (1599995, 1522)\t0.4392537971767418\n",
      "  (1599995, 3697)\t0.41957425884764094\n",
      "  (1599996, 2191)\t0.6837813748225978\n",
      "  (1599996, 3008)\t0.42309891680051376\n",
      "  (1599996, 917)\t0.40823831614838946\n",
      "  (1599996, 1955)\t0.4321710486326881\n",
      "  (1599997, 1140)\t0.6895132550120852\n",
      "  (1599997, 215)\t0.5616449870059876\n",
      "  (1599997, 3461)\t0.45730337822246975\n",
      "  (1599998, 105)\t0.608919692347761\n",
      "  (1599998, 4321)\t0.37977357274491097\n",
      "  (1599998, 427)\t0.37369438563295204\n",
      "  (1599998, 490)\t0.4179996080678301\n",
      "  (1599998, 1917)\t0.31428879885970357\n",
      "  (1599998, 4396)\t0.26803027147796094\n",
      "  (1599999, 1917)\t1.0 0          0\n",
      "1          0\n",
      "2          0\n",
      "3          0\n",
      "4          0\n",
      "          ..\n",
      "1599995    1\n",
      "1599996    1\n",
      "1599997    1\n",
      "1599998    1\n",
      "1599999    1\n",
      "Name: label, Length: 1600000, dtype: int64\n"
     ]
    }
   ],
   "source": [
    "print(X, y)"
   ]
  },
  {
   "cell_type": "markdown",
   "id": "1657bdfc",
   "metadata": {},
   "source": [
    "### Splitting data into training and testing set\n",
    "\n",
    "Training set (X_train, y_train) → Used to fit the model.\n",
    "\n",
    "Testing set (X_test, y_test) → Used to evaluate performance on new, unseen data.\n",
    "\n",
    "This helps prevent overfitting (model doing well only on training data) and gives a realistic measure of model accuracy."
   ]
  },
  {
   "cell_type": "code",
   "execution_count": 22,
   "id": "bf7acf12",
   "metadata": {},
   "outputs": [],
   "source": [
    "from sklearn.model_selection import train_test_split\n",
    "\n",
    "X_train, X_test, y_train, y_test = train_test_split(\n",
    "    X, y, test_size=0.2, random_state=42, stratify=y\n",
    ")"
   ]
  },
  {
   "cell_type": "markdown",
   "id": "d80eba5f",
   "metadata": {},
   "source": [
    "### Model Training (Logistic Regression)\n",
    "Regression - type of supervised learning (learning is done on labelled data, so we know the ans before) - models the relationship between input features (X) and a continuous output (Y) - Eg. Predicting house price based on area, number of rooms, etc.\n",
    "\n",
    "Linear Regression -  models a straight-line relationship between inputs and output\n",
    "\n",
    "Logistic Regression - used for classification, not regression - called “regression” because it’s based on a linear model, but it uses a logistic (sigmoid) function to convert the result into a probability between 0 and 1 - \n",
    "If sigmoid(z) > 0.5 → class 1 (positive sentiment)\n",
    "\n",
    "If sigmoid(z) < 0.5 → class 0 (negative sentiment)"
   ]
  },
  {
   "cell_type": "markdown",
   "id": "5f804a5a",
   "metadata": {},
   "source": [
    "### How LogisticRegression.fit(X_train, y_train) Works\n",
    "\n",
    "1. Input:\n",
    "\n",
    "X_train: A matrix of numerical features, in your case a TF-IDF matrix (sparse).\n",
    "Each row = one tweet,\n",
    "Each column = one word/token (up to 5000 if max_features=5000)\n",
    "Each cell = importance of that word in that tweet (the TF-IDF score)\n",
    "\n",
    "y_train: A vector of labels (0 for negative, 1 for positive)\n",
    "\n",
    "✔️ Think of one row in X_train as:\n",
    "```\n",
    "Tweet → [0, 0.3, 0, 0, 0.7, 0, ..., 0.5]  → y = 1\n",
    "```\n",
    "\n",
    "2. Model Goal: Learn a weight for each feature/word.\n",
    "\n",
    "z = w1x1 + w2x2 + w3x3 + ... + b (bias)\n",
    "\n",
    "then apply sigmoid function:\n",
    "\n",
    "sigmoid(z) = 1/1+e(pow(-z))\n",
    "\n",
    "This gives a probability between 0 and 1 that the tweet is positive.\n",
    "\n",
    "\n",
    "### Example\n",
    "\n",
    "Tweet → [0, 0.3, 0, 0, 0.7, 0, ..., 0.5] → y = 1\n",
    "\n",
    "Let’s assume this tweet has only 3 non-zero TF-IDF values for simplicity:\n",
    "\n",
    "Feature Index\tTF-IDF Value (x)\n",
    "x₁\t0.3\n",
    "x₂\t0.7\n",
    "x₃\t0.5\n",
    "\n",
    "Model Will Learn Weights:\n",
    "The model learns one weight (w) per feature. Example:\n",
    "\n",
    "Feature Index\tWeight (w)\n",
    "w₁\t1.2\n",
    "w₂\t-0.8\n",
    "w₃\t0.5\n",
    "\n",
    "Also, there's a bias term (b). Let’s say:\n",
    "b = 0.3\n",
    "\n",
    "z=0.36−0.56+0.25+0.3=0.35\n",
    "\n",
    "sigmoid(0.35) = 1/1+e(-35) = 0.587\n",
    "\n",
    "### Note\n",
    "- TF-IDF tells us how important a word is in a tweet\n",
    "\n",
    "- For weights:\n",
    "The model’s job is to learn how important each word (feature) is for predicting the sentiment.\n",
    "\n",
    "So during training, Logistic Regression tries many combinations of weights w₁, w₂, ..., wₙ and bias b that best separate positive and negative tweets.\n",
    "\n",
    "For example, maybe:\n",
    "\n",
    "- w_love = +1.2 → because the word “love” appears in positive tweets\n",
    "\n",
    "- w_bad = -1.0 → because “bad” shows up in negative tweets\n",
    "\n",
    "These weights are initialized randomly and updated by the model during training using gradient descent, minimizing error on predictions."
   ]
  },
  {
   "cell_type": "code",
   "execution_count": 24,
   "id": "a3074e01",
   "metadata": {},
   "outputs": [
    {
     "data": {
      "text/html": [
       "<style>#sk-container-id-2 {color: black;}#sk-container-id-2 pre{padding: 0;}#sk-container-id-2 div.sk-toggleable {background-color: white;}#sk-container-id-2 label.sk-toggleable__label {cursor: pointer;display: block;width: 100%;margin-bottom: 0;padding: 0.3em;box-sizing: border-box;text-align: center;}#sk-container-id-2 label.sk-toggleable__label-arrow:before {content: \"▸\";float: left;margin-right: 0.25em;color: #696969;}#sk-container-id-2 label.sk-toggleable__label-arrow:hover:before {color: black;}#sk-container-id-2 div.sk-estimator:hover label.sk-toggleable__label-arrow:before {color: black;}#sk-container-id-2 div.sk-toggleable__content {max-height: 0;max-width: 0;overflow: hidden;text-align: left;background-color: #f0f8ff;}#sk-container-id-2 div.sk-toggleable__content pre {margin: 0.2em;color: black;border-radius: 0.25em;background-color: #f0f8ff;}#sk-container-id-2 input.sk-toggleable__control:checked~div.sk-toggleable__content {max-height: 200px;max-width: 100%;overflow: auto;}#sk-container-id-2 input.sk-toggleable__control:checked~label.sk-toggleable__label-arrow:before {content: \"▾\";}#sk-container-id-2 div.sk-estimator input.sk-toggleable__control:checked~label.sk-toggleable__label {background-color: #d4ebff;}#sk-container-id-2 div.sk-label input.sk-toggleable__control:checked~label.sk-toggleable__label {background-color: #d4ebff;}#sk-container-id-2 input.sk-hidden--visually {border: 0;clip: rect(1px 1px 1px 1px);clip: rect(1px, 1px, 1px, 1px);height: 1px;margin: -1px;overflow: hidden;padding: 0;position: absolute;width: 1px;}#sk-container-id-2 div.sk-estimator {font-family: monospace;background-color: #f0f8ff;border: 1px dotted black;border-radius: 0.25em;box-sizing: border-box;margin-bottom: 0.5em;}#sk-container-id-2 div.sk-estimator:hover {background-color: #d4ebff;}#sk-container-id-2 div.sk-parallel-item::after {content: \"\";width: 100%;border-bottom: 1px solid gray;flex-grow: 1;}#sk-container-id-2 div.sk-label:hover label.sk-toggleable__label {background-color: #d4ebff;}#sk-container-id-2 div.sk-serial::before {content: \"\";position: absolute;border-left: 1px solid gray;box-sizing: border-box;top: 0;bottom: 0;left: 50%;z-index: 0;}#sk-container-id-2 div.sk-serial {display: flex;flex-direction: column;align-items: center;background-color: white;padding-right: 0.2em;padding-left: 0.2em;position: relative;}#sk-container-id-2 div.sk-item {position: relative;z-index: 1;}#sk-container-id-2 div.sk-parallel {display: flex;align-items: stretch;justify-content: center;background-color: white;position: relative;}#sk-container-id-2 div.sk-item::before, #sk-container-id-2 div.sk-parallel-item::before {content: \"\";position: absolute;border-left: 1px solid gray;box-sizing: border-box;top: 0;bottom: 0;left: 50%;z-index: -1;}#sk-container-id-2 div.sk-parallel-item {display: flex;flex-direction: column;z-index: 1;position: relative;background-color: white;}#sk-container-id-2 div.sk-parallel-item:first-child::after {align-self: flex-end;width: 50%;}#sk-container-id-2 div.sk-parallel-item:last-child::after {align-self: flex-start;width: 50%;}#sk-container-id-2 div.sk-parallel-item:only-child::after {width: 0;}#sk-container-id-2 div.sk-dashed-wrapped {border: 1px dashed gray;margin: 0 0.4em 0.5em 0.4em;box-sizing: border-box;padding-bottom: 0.4em;background-color: white;}#sk-container-id-2 div.sk-label label {font-family: monospace;font-weight: bold;display: inline-block;line-height: 1.2em;}#sk-container-id-2 div.sk-label-container {text-align: center;}#sk-container-id-2 div.sk-container {/* jupyter's `normalize.less` sets `[hidden] { display: none; }` but bootstrap.min.css set `[hidden] { display: none !important; }` so we also need the `!important` here to be able to override the default hidden behavior on the sphinx rendered scikit-learn.org. See: https://github.com/scikit-learn/scikit-learn/issues/21755 */display: inline-block !important;position: relative;}#sk-container-id-2 div.sk-text-repr-fallback {display: none;}</style><div id=\"sk-container-id-2\" class=\"sk-top-container\"><div class=\"sk-text-repr-fallback\"><pre>LogisticRegression(max_iter=1000)</pre><b>In a Jupyter environment, please rerun this cell to show the HTML representation or trust the notebook. <br />On GitHub, the HTML representation is unable to render, please try loading this page with nbviewer.org.</b></div><div class=\"sk-container\" hidden><div class=\"sk-item\"><div class=\"sk-estimator sk-toggleable\"><input class=\"sk-toggleable__control sk-hidden--visually\" id=\"sk-estimator-id-2\" type=\"checkbox\" checked><label for=\"sk-estimator-id-2\" class=\"sk-toggleable__label sk-toggleable__label-arrow\">LogisticRegression</label><div class=\"sk-toggleable__content\"><pre>LogisticRegression(max_iter=1000)</pre></div></div></div></div></div>"
      ],
      "text/plain": [
       "LogisticRegression(max_iter=1000)"
      ]
     },
     "execution_count": 24,
     "metadata": {},
     "output_type": "execute_result"
    }
   ],
   "source": [
    "from sklearn.linear_model import LogisticRegression\n",
    "\n",
    "model = LogisticRegression(max_iter=1000)\n",
    "model.fit(X_train, y_train)"
   ]
  },
  {
   "cell_type": "code",
   "execution_count": 25,
   "id": "170e2240",
   "metadata": {
    "scrolled": true
   },
   "outputs": [
    {
     "name": "stdout",
     "output_type": "stream",
     "text": [
      "Accuracy: 0.774559375\n",
      "Precision: 0.762693823365844\n",
      "Recall: 0.79714375\n",
      "F1-score: 0.779538363276869\n",
      "\n",
      "Classification Report:\n",
      "               precision    recall  f1-score   support\n",
      "\n",
      "           0       0.79      0.75      0.77    160000\n",
      "           1       0.76      0.80      0.78    160000\n",
      "\n",
      "    accuracy                           0.77    320000\n",
      "   macro avg       0.78      0.77      0.77    320000\n",
      "weighted avg       0.78      0.77      0.77    320000\n",
      "\n"
     ]
    }
   ],
   "source": [
    "from sklearn.metrics import accuracy_score, precision_score, recall_score, f1_score, confusion_matrix, classification_report\n",
    "\n",
    "y_pred = model.predict(X_test)\n",
    "\n",
    "print(\"Accuracy:\", accuracy_score(y_test, y_pred))\n",
    "print(\"Precision:\", precision_score(y_test, y_pred))\n",
    "print(\"Recall:\", recall_score(y_test, y_pred))\n",
    "print(\"F1-score:\", f1_score(y_test, y_pred))\n",
    "print(\"\\nClassification Report:\\n\", classification_report(y_test, y_pred))"
   ]
  },
  {
   "cell_type": "code",
   "execution_count": null,
   "id": "0f6dd11a",
   "metadata": {},
   "outputs": [],
   "source": []
  }
 ],
 "metadata": {
  "kernelspec": {
   "display_name": "Python 3 (ipykernel)",
   "language": "python",
   "name": "python3"
  },
  "language_info": {
   "codemirror_mode": {
    "name": "ipython",
    "version": 3
   },
   "file_extension": ".py",
   "mimetype": "text/x-python",
   "name": "python",
   "nbconvert_exporter": "python",
   "pygments_lexer": "ipython3",
   "version": "3.11.5"
  }
 },
 "nbformat": 4,
 "nbformat_minor": 5
}
